{
  "nbformat": 4,
  "nbformat_minor": 0,
  "metadata": {
    "colab": {
      "provenance": [],
      "authorship_tag": "ABX9TyMiIkABm8QBi9Iq66B8T9Uc",
      "include_colab_link": true
    },
    "kernelspec": {
      "name": "python3",
      "display_name": "Python 3"
    },
    "language_info": {
      "name": "python"
    }
  },
  "cells": [
    {
      "cell_type": "markdown",
      "metadata": {
        "id": "view-in-github",
        "colab_type": "text"
      },
      "source": [
        "<a href=\"https://colab.research.google.com/github/RehanNaveid/DC/blob/main/haffman%20coding.ipynb\" target=\"_parent\"><img src=\"https://colab.research.google.com/assets/colab-badge.svg\" alt=\"Open In Colab\"/></a>"
      ]
    },
    {
      "cell_type": "code",
      "execution_count": 3,
      "metadata": {
        "colab": {
          "base_uri": "https://localhost:8080/"
        },
        "id": "zQknSfNuP84l",
        "outputId": "54ba8e14-2b35-4c52-c086-3ef7cc0bfa10"
      },
      "outputs": [
        {
          "output_type": "stream",
          "name": "stdout",
          "text": [
            "Enter the number of Samples : 7\n",
            "Enter the probability of sample values 1: 0.25\n",
            "Enter the probability of sample values 2: 0.25\n",
            "Enter the probability of sample values 3: 0.125\n",
            "Enter the probability of sample values 4: 0.125\n",
            "Enter the probability of sample values 5: 0.125\n",
            "Enter the probability of sample values 6: 0.0625\n",
            "Enter the probability of sample values 7: 0.0625\n",
            "Enter the length of the sample values 1: 2\n",
            "Enter the length of the sample values 2: 2\n",
            "Enter the length of the sample values 3: 3\n",
            "Enter the length of the sample values 4: 3\n",
            "Enter the length of the sample values 5: 3\n",
            "Enter the length of the sample values 6: 4\n",
            "Enter the length of the sample values 7: 4\n",
            "Average Codeword Length is : 2.625\n",
            "Entropy is : 2.625\n",
            "Efficiency is : 1.0\n",
            "Redudancy is : 0.0\n",
            "Variance is : 0.484\n"
          ]
        }
      ],
      "source": [
        "import numpy as np\n",
        "import math\n",
        "\n",
        "L  = 0\n",
        "hs = 0\n",
        "p = []\n",
        "lk = []\n",
        "\n",
        "n = int(input(\"Enter the number of Samples : \"))\n",
        "\n",
        "for i in range (n):\n",
        "    pr = float(input(f\"Enter the probability of sample values {i + 1}: \"))\n",
        "    p.append(pr)\n",
        "for j in range (n):\n",
        "    l = float(input(f\"Enter the length of the sample values {j + 1}: \"))\n",
        "    lk.append(l)\n",
        "# Avg length of the code word\n",
        "for k in range (n):\n",
        "    Avg1 = p[k] * lk[k]\n",
        "    L = L + Avg1\n",
        "# Entropy\n",
        "for k in range (n):\n",
        "    e = p[k] * math.log(1 / p[k], 2)\n",
        "    hs = hs + e\n",
        "hs = round(hs,3)\n",
        "# Efficiency\n",
        "eff =  hs / L\n",
        "eff = round(eff,3)\n",
        "# Redundancy\n",
        "red =  round(1 - eff,3)\n",
        "# Variance\n",
        "var = 0\n",
        "for k in range(n):\n",
        "    var1 = p[k] * (lk[k]-L)**2\n",
        "    var = var + var1\n",
        "var = round(var,3)\n",
        "print(f\"Average Codeword Length is : {round(L,3)}\")\n",
        "print(f\"Entropy is : {hs}\")\n",
        "print(f\"Efficiency is : {eff}\")\n",
        "print(f\"Redudancy is : {red}\")\n",
        "print(f\"Variance is : {var}\")\n",
        "#print(*p)\n"
      ]
    }
  ]
}